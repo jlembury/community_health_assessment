{
  "cells": [
    {
      "cell_type": "markdown",
      "source": [
        "#### Encoding Geography\n",
        "# Community Health Assessment Tool Backend\n",
        "Developed by Jessica Embury, San Diego State University, Department of Geography, 2023\n",
        "\n",
        "** Go to Runtime >> Run All before using the web app:\n",
        "https://encgeo-chat.anvil.app/"
      ],
      "metadata": {
        "id": "P-wkXKm8qjaK"
      }
    },
    {
      "cell_type": "markdown",
      "source": [
        "#### Notebook Set Up & Variable Definition"
      ],
      "metadata": {
        "id": "qOn5c4Giqkqd"
      }
    },
    {
      "cell_type": "code",
      "execution_count": 1,
      "metadata": {
        "colab": {
          "base_uri": "https://localhost:8080/",
          "height": 1000
        },
        "id": "9Mp0gsHllguv",
        "outputId": "e9fc5bd8-0ed6-460b-84bd-dda2821afd41"
      },
      "outputs": [
        {
          "output_type": "stream",
          "name": "stdout",
          "text": [
            "Looking in indexes: https://pypi.org/simple, https://us-python.pkg.dev/colab-wheels/public/simple/\n",
            "Collecting anvil-uplink\n",
            "  Downloading anvil_uplink-0.4.2-py2.py3-none-any.whl (90 kB)\n",
            "\u001b[2K     \u001b[90m━━━━━━━━━━━━━━━━━━━━━━━━━━━━━━━━━━━━━━━━\u001b[0m \u001b[32m90.1/90.1 kB\u001b[0m \u001b[31m4.3 MB/s\u001b[0m eta \u001b[36m0:00:00\u001b[0m\n",
            "\u001b[?25hCollecting argparse (from anvil-uplink)\n",
            "  Downloading argparse-1.4.0-py2.py3-none-any.whl (23 kB)\n",
            "Requirement already satisfied: future in /usr/local/lib/python3.10/dist-packages (from anvil-uplink) (0.18.3)\n",
            "Requirement already satisfied: six in /usr/local/lib/python3.10/dist-packages (from anvil-uplink) (1.16.0)\n",
            "Collecting ws4py (from anvil-uplink)\n",
            "  Downloading ws4py-0.5.1.tar.gz (51 kB)\n",
            "\u001b[2K     \u001b[90m━━━━━━━━━━━━━━━━━━━━━━━━━━━━━━━━━━━━━━━━\u001b[0m \u001b[32m51.4/51.4 kB\u001b[0m \u001b[31m6.1 MB/s\u001b[0m eta \u001b[36m0:00:00\u001b[0m\n",
            "\u001b[?25h  Preparing metadata (setup.py) ... \u001b[?25l\u001b[?25hdone\n",
            "Building wheels for collected packages: ws4py\n",
            "  Building wheel for ws4py (setup.py) ... \u001b[?25l\u001b[?25hdone\n",
            "  Created wheel for ws4py: filename=ws4py-0.5.1-py3-none-any.whl size=45228 sha256=d95f82a849a77f46024e7f7ecc37343793993864330b63f2176edb3ca575dc86\n",
            "  Stored in directory: /root/.cache/pip/wheels/2e/7c/ad/d9c746276bf024d44296340869fcb169f1e5d80fb147351a57\n",
            "Successfully built ws4py\n",
            "Installing collected packages: ws4py, argparse, anvil-uplink\n",
            "Successfully installed anvil-uplink-0.4.2 argparse-1.4.0 ws4py-0.5.1\n"
          ]
        },
        {
          "output_type": "display_data",
          "data": {
            "application/vnd.colab-display-data+json": {
              "pip_warning": {
                "packages": [
                  "argparse",
                  "google"
                ]
              }
            }
          },
          "metadata": {}
        },
        {
          "output_type": "stream",
          "name": "stdout",
          "text": [
            "Looking in indexes: https://pypi.org/simple, https://us-python.pkg.dev/colab-wheels/public/simple/\n",
            "Collecting scikit-criteria==0.2.11\n",
            "  Downloading scikit-criteria-0.2.11.tar.gz (52 kB)\n",
            "\u001b[2K     \u001b[90m━━━━━━━━━━━━━━━━━━━━━━━━━━━━━━━━━━━━━━━━\u001b[0m \u001b[32m52.7/52.7 kB\u001b[0m \u001b[31m2.6 MB/s\u001b[0m eta \u001b[36m0:00:00\u001b[0m\n",
            "\u001b[?25h  Preparing metadata (setup.py) ... \u001b[?25l\u001b[?25hdone\n",
            "Requirement already satisfied: numpy in /usr/local/lib/python3.10/dist-packages (from scikit-criteria==0.2.11) (1.22.4)\n",
            "Requirement already satisfied: scipy in /usr/local/lib/python3.10/dist-packages (from scikit-criteria==0.2.11) (1.10.1)\n",
            "Collecting mock (from scikit-criteria==0.2.11)\n",
            "  Downloading mock-5.0.2-py3-none-any.whl (30 kB)\n",
            "Requirement already satisfied: tabulate in /usr/local/lib/python3.10/dist-packages (from scikit-criteria==0.2.11) (0.8.10)\n",
            "Requirement already satisfied: matplotlib in /usr/local/lib/python3.10/dist-packages (from scikit-criteria==0.2.11) (3.7.1)\n",
            "Collecting pulp (from scikit-criteria==0.2.11)\n",
            "  Downloading PuLP-2.7.0-py3-none-any.whl (14.3 MB)\n",
            "\u001b[2K     \u001b[90m━━━━━━━━━━━━━━━━━━━━━━━━━━━━━━━━━━━━━━━━\u001b[0m \u001b[32m14.3/14.3 MB\u001b[0m \u001b[31m52.9 MB/s\u001b[0m eta \u001b[36m0:00:00\u001b[0m\n",
            "\u001b[?25hCollecting json-tricks (from scikit-criteria==0.2.11)\n",
            "  Downloading json_tricks-3.17.0-py2.py3-none-any.whl (27 kB)\n",
            "Requirement already satisfied: joblib in /usr/local/lib/python3.10/dist-packages (from scikit-criteria==0.2.11) (1.2.0)\n",
            "Requirement already satisfied: attrs in /usr/local/lib/python3.10/dist-packages (from scikit-criteria==0.2.11) (23.1.0)\n",
            "Requirement already satisfied: pytest in /usr/local/lib/python3.10/dist-packages (from scikit-criteria==0.2.11) (7.2.2)\n",
            "Requirement already satisfied: contourpy>=1.0.1 in /usr/local/lib/python3.10/dist-packages (from matplotlib->scikit-criteria==0.2.11) (1.0.7)\n",
            "Requirement already satisfied: cycler>=0.10 in /usr/local/lib/python3.10/dist-packages (from matplotlib->scikit-criteria==0.2.11) (0.11.0)\n",
            "Requirement already satisfied: fonttools>=4.22.0 in /usr/local/lib/python3.10/dist-packages (from matplotlib->scikit-criteria==0.2.11) (4.39.3)\n",
            "Requirement already satisfied: kiwisolver>=1.0.1 in /usr/local/lib/python3.10/dist-packages (from matplotlib->scikit-criteria==0.2.11) (1.4.4)\n",
            "Requirement already satisfied: packaging>=20.0 in /usr/local/lib/python3.10/dist-packages (from matplotlib->scikit-criteria==0.2.11) (23.1)\n",
            "Requirement already satisfied: pillow>=6.2.0 in /usr/local/lib/python3.10/dist-packages (from matplotlib->scikit-criteria==0.2.11) (8.4.0)\n",
            "Requirement already satisfied: pyparsing>=2.3.1 in /usr/local/lib/python3.10/dist-packages (from matplotlib->scikit-criteria==0.2.11) (3.0.9)\n",
            "Requirement already satisfied: python-dateutil>=2.7 in /usr/local/lib/python3.10/dist-packages (from matplotlib->scikit-criteria==0.2.11) (2.8.2)\n",
            "Requirement already satisfied: iniconfig in /usr/local/lib/python3.10/dist-packages (from pytest->scikit-criteria==0.2.11) (2.0.0)\n",
            "Requirement already satisfied: pluggy<2.0,>=0.12 in /usr/local/lib/python3.10/dist-packages (from pytest->scikit-criteria==0.2.11) (1.0.0)\n",
            "Requirement already satisfied: exceptiongroup>=1.0.0rc8 in /usr/local/lib/python3.10/dist-packages (from pytest->scikit-criteria==0.2.11) (1.1.1)\n",
            "Requirement already satisfied: tomli>=1.0.0 in /usr/local/lib/python3.10/dist-packages (from pytest->scikit-criteria==0.2.11) (2.0.1)\n",
            "Requirement already satisfied: six>=1.5 in /usr/local/lib/python3.10/dist-packages (from python-dateutil>=2.7->matplotlib->scikit-criteria==0.2.11) (1.16.0)\n",
            "Building wheels for collected packages: scikit-criteria\n",
            "  Building wheel for scikit-criteria (setup.py) ... \u001b[?25l\u001b[?25hdone\n",
            "  Created wheel for scikit-criteria: filename=scikit_criteria-0.2.11-py3-none-any.whl size=116392 sha256=788288e91b250064f2bd649a4eeed420cfbbf1acb9765fbe004dfc171cd86c9b\n",
            "  Stored in directory: /root/.cache/pip/wheels/ee/9c/cd/c584a0f52e8046a090651d3183635ba4e85ed548f1ecd43db3\n",
            "Successfully built scikit-criteria\n",
            "Installing collected packages: pulp, json-tricks, mock, scikit-criteria\n",
            "Successfully installed json-tricks-3.17.0 mock-5.0.2 pulp-2.7.0 scikit-criteria-0.2.11\n",
            "Looking in indexes: https://pypi.org/simple, https://us-python.pkg.dev/colab-wheels/public/simple/\n",
            "Collecting geopandas\n",
            "  Downloading geopandas-0.13.0-py3-none-any.whl (1.1 MB)\n",
            "\u001b[2K     \u001b[90m━━━━━━━━━━━━━━━━━━━━━━━━━━━━━━━━━━━━━━━━\u001b[0m \u001b[32m1.1/1.1 MB\u001b[0m \u001b[31m23.0 MB/s\u001b[0m eta \u001b[36m0:00:00\u001b[0m\n",
            "\u001b[?25hCollecting fiona>=1.8.19 (from geopandas)\n",
            "  Downloading Fiona-1.9.4.post1-cp310-cp310-manylinux_2_17_x86_64.manylinux2014_x86_64.whl (16.4 MB)\n",
            "\u001b[2K     \u001b[90m━━━━━━━━━━━━━━━━━━━━━━━━━━━━━━━━━━━━━━━━\u001b[0m \u001b[32m16.4/16.4 MB\u001b[0m \u001b[31m24.5 MB/s\u001b[0m eta \u001b[36m0:00:00\u001b[0m\n",
            "\u001b[?25hRequirement already satisfied: packaging in /usr/local/lib/python3.10/dist-packages (from geopandas) (23.1)\n",
            "Requirement already satisfied: pandas>=1.1.0 in /usr/local/lib/python3.10/dist-packages (from geopandas) (1.5.3)\n",
            "Collecting pyproj>=3.0.1 (from geopandas)\n",
            "  Downloading pyproj-3.5.0-cp310-cp310-manylinux_2_17_x86_64.manylinux2014_x86_64.whl (7.7 MB)\n",
            "\u001b[2K     \u001b[90m━━━━━━━━━━━━━━━━━━━━━━━━━━━━━━━━━━━━━━━━\u001b[0m \u001b[32m7.7/7.7 MB\u001b[0m \u001b[31m46.9 MB/s\u001b[0m eta \u001b[36m0:00:00\u001b[0m\n",
            "\u001b[?25hRequirement already satisfied: shapely>=1.7.1 in /usr/local/lib/python3.10/dist-packages (from geopandas) (2.0.1)\n",
            "Requirement already satisfied: attrs>=19.2.0 in /usr/local/lib/python3.10/dist-packages (from fiona>=1.8.19->geopandas) (23.1.0)\n",
            "Requirement already satisfied: certifi in /usr/local/lib/python3.10/dist-packages (from fiona>=1.8.19->geopandas) (2022.12.7)\n",
            "Requirement already satisfied: click~=8.0 in /usr/local/lib/python3.10/dist-packages (from fiona>=1.8.19->geopandas) (8.1.3)\n",
            "Collecting click-plugins>=1.0 (from fiona>=1.8.19->geopandas)\n",
            "  Downloading click_plugins-1.1.1-py2.py3-none-any.whl (7.5 kB)\n",
            "Collecting cligj>=0.5 (from fiona>=1.8.19->geopandas)\n",
            "  Downloading cligj-0.7.2-py3-none-any.whl (7.1 kB)\n",
            "Requirement already satisfied: six in /usr/local/lib/python3.10/dist-packages (from fiona>=1.8.19->geopandas) (1.16.0)\n",
            "Requirement already satisfied: python-dateutil>=2.8.1 in /usr/local/lib/python3.10/dist-packages (from pandas>=1.1.0->geopandas) (2.8.2)\n",
            "Requirement already satisfied: pytz>=2020.1 in /usr/local/lib/python3.10/dist-packages (from pandas>=1.1.0->geopandas) (2022.7.1)\n",
            "Requirement already satisfied: numpy>=1.21.0 in /usr/local/lib/python3.10/dist-packages (from pandas>=1.1.0->geopandas) (1.22.4)\n",
            "Installing collected packages: pyproj, cligj, click-plugins, fiona, geopandas\n",
            "Successfully installed click-plugins-1.1.1 cligj-0.7.2 fiona-1.9.4.post1 geopandas-0.13.0 pyproj-3.5.0\n"
          ]
        }
      ],
      "source": [
        "!pip install anvil-uplink\n",
        "!pip install scikit-criteria==0.2.11\n",
        "!pip install geopandas"
      ]
    },
    {
      "cell_type": "code",
      "execution_count": 2,
      "metadata": {
        "id": "HPxrQN5Mpe-W"
      },
      "outputs": [],
      "source": [
        "import anvil.server"
      ]
    },
    {
      "cell_type": "code",
      "execution_count": 3,
      "metadata": {
        "colab": {
          "base_uri": "https://localhost:8080/"
        },
        "id": "6k3YaK6WpXVE",
        "outputId": "5d8d20b7-03a9-4d23-cd62-825738fc5465"
      },
      "outputs": [
        {
          "output_type": "stream",
          "name": "stdout",
          "text": [
            "Connecting to wss://anvil.works/uplink\n",
            "Anvil websocket open\n",
            "Connected to \"Default Environment\" as SERVER\n"
          ]
        }
      ],
      "source": [
        "anvil.server.connect(\"server_SZNFS3LZEGXNK7PNS2FN7NOC-QLCKK24NWE7Z3W5Z\")"
      ]
    },
    {
      "cell_type": "code",
      "execution_count": 4,
      "metadata": {
        "id": "O_-jaS2npquQ"
      },
      "outputs": [],
      "source": [
        "import geopandas as gpd\n",
        "import json\n",
        "import math\n",
        "import numpy as np\n",
        "import pandas as pd\n",
        "pd.set_option('mode.chained_assignment', None)\n",
        "import plotly.express as px\n",
        "import plotly.graph_objects as go\n",
        "import requests\n",
        "from skcriteria.madm import simple # scikit-criteria==0.2.11\n",
        "from skcriteria import Data as skData\n"
      ]
    },
    {
      "cell_type": "code",
      "execution_count": 5,
      "metadata": {
        "id": "eUAjFoTi8JEK"
      },
      "outputs": [],
      "source": [
        "health_dict = {'Percent of Residents With Cancer':'cancer_pct', 'Percent of Residents With Chronic Obstructive Pulmonary Disease (COPD)': 'copd_pct', 'Percent of Residents With Coronary Heart Disease':'chd_pct', 'Percent of Residents With Diabetes':'diabetes_pct', 'Percent of Residents With High Blood Pressure':'hbp_pct', 'Percent of Residents With Obesity (BMI > 30)':'bmi30plus_pct',  'Percent of Residents With Stroke':'stroke_pct'}\n",
        "sociodem_dict = {'Median Annual Household Income':'median_income', 'Percent of Households Receiving Food or Cash Assistance':'hhs_snap_pct', 'Percent of Workers With Active Commutes':'active_commute', 'Percent of Residents With Auto Access':'auto_access', 'Percent of Residents With Health Insurance':'insurance', 'Percent of Residents With Low Physical Activity':'lowphysactiv_pct'}                \n",
        "environ_dict = {'Number of Fast Food Restaurants':'num_fast_food', 'Number of Full-Service Restaurants':'num_full_restaurants', 'Number of Snack and Nonalcoholic Beverage Bars':'num_snack_nonalcbev_bars', 'Percent of Residents With Nearby Park Access':'park_access', 'Percent of Residents With Nearby Public Transit Access':'transit_access', 'Percent of Residents With Nearby Supermarket Access':'supermkt_access', 'Neighborhood Walkability Score':'walkability'}\n",
        "var_min_max = {'bmi30plus_pct':'min', 'cancer_pct':'min', 'copd_pct':'min', 'chd_pct':'min', 'diabetes_pct':'min', 'hbp_pct':'min', 'stroke_pct':'min', 'hhs_snap_pct':'min', 'active_commute':'max', 'auto_access':'max', 'insurance':'max', 'median_income':'max', 'lowphysactiv_pct':'min', 'park_access':'max', 'supermkt_access':'max', 'transit_access':'max', 'walkability':'max', 'num_full_restaurants':'min', 'num_fast_food':'min', 'num_snack_nonalcbev_bars':'min'}\n",
        "color_map = {'0':'#e8e8e8', '1':'#ace4e4', '2':'#5ac8c8', '3':'#dfb0d6', '4':'#a5add3', '5':'#5698b9', '6':'#be64ac', '7':'#8c62aa', '8':'#3b4994'}\n",
        "asset_categories = {'Convenience Stores':'Convenience Store', 'Farmers Markets':'Farmer\\'s Market', 'Produce Specialty Stores':'Fruits/Veg Specialty', 'Grocery Stores':'Grocery Store', 'Health Clinics':'Clinic', 'Hospitals':'Hospital', 'Parks':'Park', 'Supermarkets':'Supermarket'}\n",
        "school_url = 'https://github.com/jlembury/community_health_assessment/blob/main/xwalk_school_sra.csv?raw=true'  \n",
        "tract_url = 'https://github.com/jlembury/community_health_assessment/blob/main/data_tracts_risk.csv?raw=true' \n",
        "geo_school_url = 'https://github.com/jlembury/community_health_assessment/blob/main/xwalk_school_sra.geojson?raw=true'\n",
        "geo_sra_url = 'https://github.com/jlembury/community_health_assessment/blob/main/sra_boundaries.geojson?raw=true'\n",
        "geo_tract_url = 'https://github.com/jlembury/community_health_assessment/blob/main/data_tracts_risk.geojson?raw=true'\n",
        "assets_url = 'https://github.com/jlembury/community_health_assessment/blob/main/data_assets.csv?raw=true'"
      ]
    },
    {
      "cell_type": "markdown",
      "source": [
        "#### Functions for Part 1. Health Mapping"
      ],
      "metadata": {
        "id": "FFpV3YfJq3nC"
      }
    },
    {
      "cell_type": "code",
      "source": [
        "# bivar mapping support functions\n",
        "def conf_defaults():\n",
        "    # Define some variables for later use\n",
        "    conf = {\n",
        "        'plot_title': 'Bivariate choropleth map using Ploty',  # Title text\n",
        "        'plot_title_size':18,\n",
        "        'width': 1000,  # Width of the final map container\n",
        "        'ratio': 0.8,  # Ratio of height to width\n",
        "        'center_lat': 0,  # Latitude of the center of the map\n",
        "        'center_lon': 0,  # Longitude of the center of the map\n",
        "        'map_zoom': 3,  # Zoom factor of the map\n",
        "        'hover_x_label': 'Label x variable',  # Label to appear on hover\n",
        "        'hover_y_label': 'Label y variable',  # Label to appear on hover\n",
        "        'borders_width': 0.5,  # Width of the geographic entity borders\n",
        "        'borders_color': '#f8f8f8',  # Color of the geographic entity borders\n",
        "\n",
        "        # Define settings for the legend\n",
        "        'top': 1,  # Vertical position of the top right corner (0: bottom, 1: top)\n",
        "        'right': 1,  # Horizontal position of the top right corner (0: left, 1: right)\n",
        "        'box_w': 0.06,  # Width of each rectangle\n",
        "        'box_h': 0.06,  # Height of each rectangle\n",
        "        'line_color': '#f8f8f8',  # Color of the rectagles' borders\n",
        "        'line_width': 0,  # Width of the rectagles' borders\n",
        "        'legend_x_label': 'Higher x value',  # x variable label for the legend \n",
        "        'legend_y_label': 'Higher y value',  # y variable label for the legend\n",
        "        'legend_font_size': 9,  # Legend font size\n",
        "        'legend_font_color': '#333',  # Legend font color\n",
        "    }\n",
        "\n",
        "    # Calculate height\n",
        "    conf['height']= conf['width'] * conf['ratio']\n",
        "    \n",
        "    return conf\n",
        "\n",
        "\"\"\"\n",
        "Function to recalculate values in case width is changed\n",
        "\"\"\"\n",
        "def recalc_vars(new_width, variables, conf=conf_defaults()):\n",
        "    \n",
        "    # Calculate the factor of the changed width\n",
        "    factor = new_width / 1000\n",
        "    \n",
        "    # Apply factor to all variables that have been passed to the function\n",
        "    for var in variables:\n",
        "        if var == 'map_zoom':\n",
        "            # Calculate the zoom factor\n",
        "            # Mapbox zoom is based on a log scale. map_zoom needs to be set \n",
        "            # to value ideal for our map at 1000px.\n",
        "            # So factor = 2 ^ (zoom - map_zoom) and zoom = log(factor) / log(2) + map_zoom\n",
        "            conf[var] = math.log(factor) / math.log(2) + conf[var]\n",
        "        else:\n",
        "            conf[var] = conf[var] * factor\n",
        "\n",
        "    return conf\n",
        "\n",
        "def set_interval_value(x, break_1, break_2):\n",
        "    if x <= break_1: \n",
        "        return 0\n",
        "    elif break_1 < x <= break_2: \n",
        "        return 1\n",
        "    else: \n",
        "        return 2\n",
        "\n",
        "def prepare_df(df, x='x', y='y'):\n",
        "    \n",
        "    # Check if arguments match all requirements\n",
        "    if df[x].shape[0] != df[y].shape[0]:\n",
        "        raise ValueError('ERROR: The list of x and y coordinates must have the same length.')\n",
        "    \n",
        "    # Calculate break points at percentiles 33 and 66\n",
        "    x_breaks = np.percentile(df[x], [33, 66])\n",
        "    y_breaks = np.percentile(df[y], [33, 66])\n",
        "    \n",
        "    # Assign values of both variables to one of three bins (0, 1, 2)\n",
        "    x_bins = [set_interval_value(value_x, x_breaks[0], x_breaks[1]) for value_x in df[x]]\n",
        "    y_bins = [set_interval_value(value_y, y_breaks[0], y_breaks[1]) for value_y in df[y]]\n",
        "    \n",
        "    # Calculate the position of each x/y value pair in the 9-color matrix of bivariate colors\n",
        "    df['biv_bins'] = [int(value_x + 3 * value_y) for value_x, value_y in zip(x_bins, y_bins)]\n",
        "    \n",
        "    return df\n",
        "\n",
        "def create_legend(fig, colors, conf=conf_defaults()):\n",
        "    \n",
        "    # Reverse the order of colors\n",
        "    legend_colors = [color_map[key] for key in color_map]\n",
        "    legend_colors.reverse()\n",
        "\n",
        "    # Calculate coordinates for all nine rectangles\n",
        "    coord = []\n",
        "\n",
        "    # Adapt height to ratio to get squares\n",
        "    width = conf['box_w']\n",
        "    height = conf['box_h']/conf['ratio']\n",
        "    \n",
        "    # Start looping through rows and columns to calculate corners the squares\n",
        "    for row in range(1, 4):\n",
        "        for col in range(1, 4):\n",
        "            coord.append({\n",
        "                'x0': round(conf['right']-(col-1)*width, 4),\n",
        "                'y0': round(conf['top']-(row-1)*height, 4),\n",
        "                'x1': round(conf['right']-col*width, 4),\n",
        "                'y1': round(conf['top']-row*height, 4)\n",
        "            })\n",
        "\n",
        "    # Create shapes (rectangles)\n",
        "    for i, value in enumerate(coord):\n",
        "        # Add rectangle\n",
        "        fig.add_shape(go.layout.Shape(\n",
        "            type='rect',\n",
        "            fillcolor=legend_colors[i],\n",
        "            line=dict(\n",
        "                color=conf['line_color'],\n",
        "                width=conf['line_width'],\n",
        "            ),\n",
        "            xref='paper',\n",
        "            yref='paper',\n",
        "            xanchor='right',\n",
        "            yanchor='top',\n",
        "            x0=coord[i]['x0'],\n",
        "            y0=coord[i]['y0'],\n",
        "            x1=coord[i]['x1'],\n",
        "            y1=coord[i]['y1'],\n",
        "        ))\n",
        "    \n",
        "        # Add text for first variable\n",
        "        fig.add_annotation(\n",
        "            xref='paper',\n",
        "            yref='paper',\n",
        "            xanchor='left',\n",
        "            yanchor='top',\n",
        "            x=coord[8]['x1'],\n",
        "            y=coord[8]['y1'],\n",
        "            showarrow=False,\n",
        "            text=conf['legend_x_label'] + ' 🠒',\n",
        "            font=dict(\n",
        "                color=conf['legend_font_color'],\n",
        "                size=conf['legend_font_size'],\n",
        "            ),\n",
        "            borderpad=0,\n",
        "        )\n",
        "        \n",
        "        # Add text for second variable\n",
        "        fig.add_annotation(\n",
        "            xref='paper',\n",
        "            yref='paper',\n",
        "            xanchor='right',\n",
        "            yanchor='bottom',\n",
        "            x=coord[8]['x1'],\n",
        "            y=coord[8]['y1'],\n",
        "            showarrow=False,\n",
        "            text=conf['legend_y_label'] + ' 🠒',\n",
        "            font=dict(\n",
        "                color=conf['legend_font_color'],\n",
        "                size=conf['legend_font_size'],\n",
        "            ),\n",
        "            textangle=270,\n",
        "            borderpad=0,\n",
        "            )\n",
        "    \n",
        "    return fig"
      ],
      "metadata": {
        "id": "JtgqGmWKL9Sb"
      },
      "execution_count": 12,
      "outputs": []
    },
    {
      "cell_type": "code",
      "source": [
        "@anvil.server.callable\n",
        "def plot_bivar_choro(hm_school_dd, hm_var1, hm_var2):\n",
        "  health_var = health_dict[hm_var1]\n",
        "  try:\n",
        "    var2 = sociodem_dict[hm_var2]\n",
        "  except:\n",
        "    var2 = environ_dict[hm_var2]\n",
        "  \n",
        "  school_gdf = gpd.read_file(geo_school_url).query('name == @hm_school_dd')[['name', 'sra', 'geometry']]\n",
        "  school_geom = school_gdf['geometry'].iloc[0]\n",
        "  school_df = pd.DataFrame(columns=['name', 'x', 'y'], data=[[hm_school_dd, school_geom.x, school_geom.y]])\n",
        "  sra = school_gdf['sra'].iloc[0]\n",
        "  sra_gdf = gpd.read_file(geo_sra_url).query('sra == @sra')\n",
        "\n",
        "  tracts_gdf = gpd.read_file(geo_tract_url).query('sra == @sra')[['tract', 'sra', health_var, var2, 'geometry']]\n",
        "  tracts_gdf = tracts_gdf.rename(columns={'tract':'Tract', 'sra':'SRA', health_var:hm_var1, var2:hm_var2})\n",
        "  tracts_gdf[hm_var1] = (tracts_gdf[hm_var1].round(2)*100).astype(int)\n",
        "  if 'Percent' in hm_var2:\n",
        "    tracts_gdf[hm_var2] = (tracts_gdf[hm_var2].round(2)*100).astype(int)\n",
        "  else:\n",
        "    tracts_gdf[hm_var2] = (tracts_gdf[hm_var2].round(0)).astype(int)\n",
        "  \n",
        "  # map config settings\n",
        "  conf = conf_defaults()\n",
        "  conf['plot_title'] = 'Bivariate Map of {} <br>& {} in {}'.format(hm_var1, hm_var2, sra.title())\n",
        "  conf['hover_x_label'] = '{}'.format(hm_var2)  # Label to appear on hover\n",
        "  conf['hover_y_label'] = '{}'.format(hm_var1)  # Label to appear on hover\n",
        "  conf['width'] = 1000\n",
        "  conf['center_lat'] = sra_gdf['geometry'].iloc[0].centroid.y\n",
        "  conf['center_lon'] = sra_gdf['geometry'].iloc[0].centroid.x  # Longitude of the center of the map\n",
        "  conf['map_zoom'] = 11  # Zoom factor of the map\n",
        "  conf['borders_width'] = 0  # Width of the geographic entity borders\n",
        "\n",
        "  # Define settings for the legend\n",
        "  conf['top'] = 0.225  # Vertical position of the top right corner (0: bottom, 1: top)\n",
        "  conf['right'] = 0.18  # Horizontal position of the top right corner (0: left, 1: right)\n",
        "  conf['line_width'] = 0  # Width of the rectagles' borders\n",
        "  conf['legend_x_label'] = 'Higher {}'.format(hm_var2)   # x variable label for the legend \n",
        "  conf['legend_y_label'] = 'Higher {}'.format(hm_var1)  # y variable label for the legend\n",
        "\n",
        "  # Recalculate values if width differs from default\n",
        "  if not conf['width'] == 1000:             \n",
        "      conf = recalc_vars(conf['width'], ['height', 'plot_title_size', 'legend_font_size', 'map_zoom'], conf)\n",
        "        \n",
        "  # Prepare the dataframe with the necessary information for our bivariate map\n",
        "  df_plot = prepare_df(tracts_gdf, hm_var2, hm_var1)\n",
        "  df_plot['biv_bins'] = df_plot['biv_bins'].astype(str)\n",
        "  fig = px.choropleth_mapbox(tracts_gdf,\n",
        "                   geojson=tracts_gdf.geometry,\n",
        "                   locations=tracts_gdf.index,\n",
        "                   color='biv_bins', mapbox_style = 'open-street-map', color_discrete_map=color_map,\n",
        "                   hover_data={hm_var1:True, hm_var2:True},\n",
        "                   hover_name = tracts_gdf.Tract, opacity=0.5) \n",
        "\n",
        "  # Add some more details\n",
        "  fig.update_layout(title=dict(text=conf['plot_title'],),\n",
        "        width=conf['width'],\n",
        "        height=conf['height'],\n",
        "        autosize=True,\n",
        "        showlegend=False,\n",
        "        mapbox=dict(\n",
        "            center=dict(lat=conf['center_lat'], lon=conf['center_lon']),  # Set map center\n",
        "            zoom=conf['map_zoom'],  # Set zoom\n",
        "        ))\n",
        "\n",
        "  fig.update_traces(\n",
        "        marker_line_width=conf['borders_width'],  # Width of the geographic entity borders\n",
        "        marker_line_color=conf['borders_color'],  # Color of the geographic entity borders\n",
        "        showscale=False,  # Hide the colorscale\n",
        "  )\n",
        "\n",
        "  fig2 = px.scatter_mapbox(school_df, lat='y', lon='x', color='name', hover_name='name', hover_data={'x':False, 'y':False})\n",
        "  fig.add_trace(fig2.data[0])\n",
        "  fig.update_layout(legend_orientation=\"h\")\n",
        "\n",
        "  # Add the legend\n",
        "  fig = create_legend(fig, color_map, conf)\n",
        "    \n",
        "  return fig"
      ],
      "metadata": {
        "id": "JFsb80EiIf9I"
      },
      "execution_count": 14,
      "outputs": []
    },
    {
      "cell_type": "markdown",
      "source": [
        "#### Functions for Part 2. Community Health Assessment Tool"
      ],
      "metadata": {
        "id": "PzsRyuAiqten"
      }
    },
    {
      "cell_type": "code",
      "execution_count": 6,
      "metadata": {
        "id": "wgkRUIRZljTY"
      },
      "outputs": [],
      "source": [
        "@anvil.server.callable\n",
        "def get_schools(zipcode):\n",
        "  school_df = pd.read_csv(school_url)\n",
        "  schools_list = list(school_df.query('zip == @zipcode')['name'])\n",
        "  schools_list.sort()\n",
        "  return schools_list"
      ]
    },
    {
      "cell_type": "code",
      "execution_count": 7,
      "metadata": {
        "id": "5yPmST5_R3W6"
      },
      "outputs": [],
      "source": [
        "@anvil.server.callable\n",
        "def get_school_sra(schools_dropdown):\n",
        "  school_df = pd.read_csv(school_url)\n",
        "  sra = school_df.query('name == @schools_dropdown').reset_index()['sra'][0]\n",
        "  sra_title = sra.title()\n",
        "  tract_df = pd.read_csv(tract_url)\n",
        "  tract_subset = tract_df.query('sra == @sra')\n",
        "  num_tracts = len(tract_subset)\n",
        "  text = f'{schools_dropdown} is in the {sra_title} Sub-Regional Area. \\n {sra_title} has {num_tracts} Census Tracts.'\n",
        "  return text"
      ]
    },
    {
      "cell_type": "code",
      "execution_count": 8,
      "metadata": {
        "id": "_enl4OeSjXo_"
      },
      "outputs": [],
      "source": [
        "@anvil.server.callable\n",
        "def run_mcda(schools_dropdown, health_var, health_weight, sociodem_var, sociodem_weight, environ_var, environ_weight):\n",
        "  school_df = pd.read_csv(school_url)\n",
        "  sra = school_df.query('name == @schools_dropdown').reset_index()['sra'][0]\n",
        "  tract_df = pd.read_csv(tract_url).query('sra == @sra')\n",
        "  \n",
        "  data = tract_df[['tract', health_dict[health_var], sociodem_dict[sociodem_var], environ_dict[environ_var]]]\n",
        "  data = data.replace(0, 0.000001)\n",
        "  attribs = [health_dict[health_var], sociodem_dict[sociodem_var], environ_dict[environ_var]]\n",
        "  tracts = list(data['tract'])\n",
        "  data.drop(['tract'], axis=1, inplace=True)\n",
        "  direction = [var_min_max[health_dict[health_var]], var_min_max[sociodem_dict[sociodem_var]], var_min_max[environ_dict[environ_var]]]\n",
        "  weights_total = health_weight + sociodem_weight + environ_weight\n",
        "  weights = [health_weight/weights_total, sociodem_weight/weights_total, environ_weight/weights_total]\n",
        "\n",
        "  criteria_data = skData(data, direction, weights, tracts, attribs)\n",
        "  dm = simple.WeightedSum(mnorm=\"sum\")\n",
        "  dec = dm.decide(criteria_data)\n",
        "  tract_df['Score'] = dec.e_.points\n",
        "  tract_df['Rank'] = dec.rank_\n",
        "  df = tract_df.sort_values(by='Rank').reset_index().rename(columns={'tract':'Tract'})[['Tract', 'Rank', 'Score', health_dict[health_var], sociodem_dict[sociodem_var], environ_dict[environ_var]]]\n",
        "  if 'Percent' in health_var:\n",
        "    df[health_dict[health_var]] = (df[health_dict[health_var]].round(2)*100).astype(int)\n",
        "  if 'Percent' in sociodem_var:\n",
        "    df[sociodem_dict[sociodem_var]] = (df[sociodem_dict[sociodem_var]].round(2)*100).astype(int)\n",
        "  if 'Percent' in environ_var:\n",
        "    df[environ_dict[environ_var]] = (df[environ_dict[environ_var]].round(2)*100).astype(int)\n",
        "  else:\n",
        "    df[environ_dict[environ_var]] = (df[environ_dict[environ_var]].round(0)).astype(int)\n",
        "\n",
        "  results = [{'Tract': df['Tract'].iloc[x], 'Rank':df['Rank'].iloc[x], health_var:df[health_dict[health_var]].iloc[x], sociodem_var:df[sociodem_dict[sociodem_var]].iloc[x], environ_var:df[environ_dict[environ_var]].iloc[x]} for x in df.index]\n",
        "  return results"
      ]
    },
    {
      "cell_type": "code",
      "execution_count": 9,
      "metadata": {
        "id": "vZ0yTKy5W7lw"
      },
      "outputs": [],
      "source": [
        "@anvil.server.callable\n",
        "def plot_choro(schools_dropdown, results, health_weight, sociodem_weight, environ_weight):\n",
        "  school_gdf = gpd.read_file(geo_school_url).query('name == @schools_dropdown')\n",
        "  sra = school_gdf['sra'].iloc[0]\n",
        "  school_geom = school_gdf['geometry'].iloc[0]\n",
        "  school_df = pd.DataFrame(columns=['name', 'x', 'y'], data=[[schools_dropdown, school_geom.x, school_geom.y]])\n",
        "  sra_gdf = gpd.read_file(geo_sra_url).query('sra == @sra')\n",
        "  centroid = [sra_gdf['geometry'].iloc[0].centroid.y, sra_gdf['geometry'].iloc[0].centroid.x]\n",
        "\n",
        "  tract_ids = [str(results[x]['Tract']) for x in range(len(results))]\n",
        "  cols = [key for key in results[0]]\n",
        "  cols_abbrev = ['tract', health_dict[cols[2]], sociodem_dict[cols[3]], environ_dict[cols[4]], 'geometry']\n",
        "  tracts_gdf = gpd.read_file(geo_tract_url).query('tract == @tract_ids')\n",
        "  tracts_gdf['rank'] = 0\n",
        "  for i in range(len(results)):\n",
        "    tracts_gdf.loc[tracts_gdf.tract == str(results[i]['Tract']), 'rank'] = results[i]['Rank']\n",
        "  tracts_gdf = tracts_gdf.rename(columns={'tract':'Tract', 'rank':'Rank', health_dict[cols[2]]:cols[2], sociodem_dict[cols[3]]:cols[3], environ_dict[cols[4]]:cols[4]})[['Tract', 'Rank', cols[2], cols[3], cols[4], 'geometry']]\n",
        "  if 'Percent' in cols[2]:\n",
        "    tracts_gdf[cols[2]] = (tracts_gdf[cols[2]].round(2)*100).astype(int)\n",
        "  if 'Percent' in cols[3]:\n",
        "    tracts_gdf[cols[3]] = (tracts_gdf[cols[3]].round(2)*100).astype(int)\n",
        "  if 'Percent' in cols[4]:\n",
        "    tracts_gdf[cols[4]] = (tracts_gdf[cols[4]].round(2)*100).astype(int)\n",
        "  else:\n",
        "    tracts_gdf[cols[4]] = (tracts_gdf[cols[4]].round(0)).astype(int)\n",
        "  tracts_gdf['tract'] = tracts_gdf['Tract']\n",
        "\n",
        "  fig = px.choropleth_mapbox(tracts_gdf,\n",
        "                   geojson=tracts_gdf.geometry,\n",
        "                   locations=tracts_gdf.index,\n",
        "                   color='Rank', mapbox_style = 'open-street-map', zoom = 11, center = dict(lat = centroid[0], lon = centroid[1]),\n",
        "                   hover_data={'Rank':True, cols[2]:True, cols[3]:True, cols[4]:True},\n",
        "                   color_continuous_scale='rdbu_r', hover_name = tracts_gdf.tract, opacity=0.5,\n",
        "                   title='Community Health Assessment for {}<br><sub>Health Criterion: {} (Weight {})<br>Socio-Demographic Criterion: {} (Weight {})<br>Environmental Criterion: {} (Weight {})</sub>'.format(sra.title(), cols[2], health_weight, cols[3], sociodem_weight, cols[4], environ_weight))\n",
        "  fig2 = px.scatter_mapbox(school_df, lat='y', lon='x', hover_name='name', hover_data={'x':False, 'y':False})\n",
        "  fig.add_trace(fig2.data[0])\n",
        "  #fig.update_geos(fitbounds='locations', visible=False)\n",
        "  fig.update_layout(margin=dict(t=150, b=10, r=20, l=20),legend_orientation=\"h\")\n",
        "\n",
        "  return fig"
      ]
    },
    {
      "cell_type": "code",
      "execution_count": 10,
      "metadata": {
        "id": "q-WFPJXQ54Bk"
      },
      "outputs": [],
      "source": [
        "@anvil.server.callable\n",
        "def get_sra_geom(schools_dropdown):\n",
        "  school_gdf = gpd.read_file(geo_school_url).query('name == @schools_dropdown')\n",
        "  sra = school_gdf['sra'].iloc[0]\n",
        "  sra_gdf = gpd.read_file(geo_sra_url).query('sra == @sra')\n",
        "  lonlat = list(sra_gdf['geometry'].iloc[0].exterior.coords)\n",
        "  latlon = [(x[1], x[0]) for x in lonlat]\n",
        "  centroid = [sra_gdf['geometry'].iloc[0].centroid.y, sra_gdf['geometry'].iloc[0].centroid.x]\n",
        "  sra_info = {'sra_name':sra_gdf['sra'].iloc[0].title(), 'sra_geometry':latlon, 'sra_centroid': centroid}\n",
        "  return sra_info"
      ]
    },
    {
      "cell_type": "code",
      "execution_count": 11,
      "metadata": {
        "id": "zLkpaDjw05y8"
      },
      "outputs": [],
      "source": [
        "@anvil.server.callable\n",
        "def get_school_coords(schools_dropdown):\n",
        "  gdf = gpd.read_file(geo_school_url).query('name == @schools_dropdown')\n",
        "  school_geom = gdf['geometry'].iloc[0]\n",
        "  school_latlon = [school_geom.y, school_geom.x]\n",
        "  return school_latlon"
      ]
    },
    {
      "cell_type": "markdown",
      "source": [
        "#### Functions for Part 3. Asset Mapping"
      ],
      "metadata": {
        "id": "poFrv7LrrF8A"
      }
    },
    {
      "cell_type": "code",
      "source": [
        "@anvil.server.callable\n",
        "def mcda4assetmapping(pd1, pd2, pw1, pd3, pw2, pd4, pw3):\n",
        "  sra = pd1.upper()\n",
        "  tract_df = pd.read_csv(tract_url).query('sra == @sra')\n",
        "  \n",
        "  data = tract_df[['tract', health_dict[pd2], sociodem_dict[pd3], environ_dict[pd4]]]\n",
        "  data = data.replace(0, 0.000001)\n",
        "  attribs = [health_dict[pd2], sociodem_dict[pd3], environ_dict[pd4]]\n",
        "  tracts = list(data['tract'])\n",
        "  data.drop(['tract'], axis=1, inplace=True)\n",
        "  direction = [var_min_max[health_dict[pd2]], var_min_max[sociodem_dict[pd3]], var_min_max[environ_dict[pd4]]]\n",
        "  weights_total = pw1 + pw2 + pw3\n",
        "  weights = [pw1/weights_total, pw2/weights_total, pw3/weights_total]\n",
        "\n",
        "  criteria_data = skData(data, direction, weights, tracts, attribs)\n",
        "  dm = simple.WeightedSum(mnorm=\"sum\")\n",
        "  dec = dm.decide(criteria_data)\n",
        "  tract_df['Rank'] = dec.rank_\n",
        "  df = tract_df.sort_values(by='Rank').reset_index().rename(columns={'tract':'Tract'})[['Tract', 'Rank', health_dict[pd2], sociodem_dict[pd3], environ_dict[pd4]]]\n",
        "  df[health_dict[pd2]] = (df[health_dict[pd2]].round(2)*100).astype(int)\n",
        "  if 'Percent' in pd3:\n",
        "    df[sociodem_dict[pd3]] = (df[sociodem_dict[pd3]].round(2)*100).astype(int)\n",
        "  if 'Percent' in pd4:\n",
        "    df[environ_dict[pd4]] = (df[environ_dict[pd4]].round(2)*100).astype(int)\n",
        "  elif 'Walkability' in pd4:\n",
        "    df[environ_dict[pd4]] = df[environ_dict[pd4]].astype(int)\n",
        "\n",
        "  results = [{'Tract': df['Tract'].iloc[x], 'Rank':df['Rank'].iloc[x], pd2:df[health_dict[pd2]].iloc[x], pd3:df[sociodem_dict[pd3]].iloc[x], pd4:df[environ_dict[pd4]].iloc[x]} for x in df.index]\n",
        "  return results"
      ],
      "metadata": {
        "id": "ksyd_zZJQmlJ"
      },
      "execution_count": 15,
      "outputs": []
    },
    {
      "cell_type": "code",
      "source": [
        "@anvil.server.callable\n",
        "def plot_asset_map(results, assets, pd1, pw1, pw2, pw3):\n",
        "  sra = pd1.upper()\n",
        "  sra_gdf = gpd.read_file(geo_sra_url).query('sra == @sra')\n",
        "  centroid = [sra_gdf['geometry'].iloc[0].centroid.y, sra_gdf['geometry'].iloc[0].centroid.x]\n",
        "\n",
        "  tract_ids = [str(results[x]['Tract']) for x in range(len(results))]\n",
        "  cols = [key for key in results[0]]\n",
        "  cols_abbrev = ['tract', health_dict[cols[2]], sociodem_dict[cols[3]], environ_dict[cols[4]], 'geometry']\n",
        "  tracts_gdf = gpd.read_file(geo_tract_url).query('tract == @tract_ids')\n",
        "  tracts_gdf['rank'] = 0\n",
        "  for i in range(len(results)):\n",
        "    tracts_gdf.loc[tracts_gdf.tract == str(results[i]['Tract']), 'rank'] = results[i]['Rank']\n",
        "  tracts_gdf = tracts_gdf.rename(columns={'tract':'Tract', 'rank':'Rank', health_dict[cols[2]]:cols[2], sociodem_dict[cols[3]]:cols[3], environ_dict[cols[4]]:cols[4]})[['Tract', 'Rank', cols[2], cols[3], cols[4], 'geometry']]\n",
        "  tracts_gdf[cols[2]] = (tracts_gdf[cols[2]].round(2)*100).astype(int)\n",
        "  if 'Percent' in cols[3]:\n",
        "    tracts_gdf[cols[3]] = (tracts_gdf[cols[3]].round(2)*100).astype(int)\n",
        "  if 'Percent' in cols[4]:\n",
        "    tracts_gdf[cols[4]] = (tracts_gdf[cols[4]].round(2)*100).astype(int)\n",
        "  elif 'Walkability' in cols[4]:\n",
        "    tracts_gdf[cols[4]] = tracts_gdf[cols[4]].astype(int)\n",
        "  tracts_gdf['tract'] = tracts_gdf['Tract']\n",
        "\n",
        "  asset_cats = [asset_categories[x] for x in assets]\n",
        "  assets_df = pd.read_csv(assets_url).query('sra == @sra').query('category == @asset_cats')\n",
        "\n",
        "  fig = px.choropleth_mapbox(tracts_gdf,\n",
        "                   geojson=tracts_gdf.geometry,\n",
        "                   locations=tracts_gdf.index,\n",
        "                   color='Rank', mapbox_style = 'open-street-map', zoom = 11, center = dict(lat = centroid[0], lon = centroid[1]),\n",
        "                   hover_data={'Rank':True, cols[2]:True, cols[3]:True, cols[4]:True},\n",
        "                   color_continuous_scale='rdbu_r', hover_name = tracts_gdf.tract, opacity=0.5,\n",
        "                   title='Community Health & Asset Map for {}<br><sub>Health Criterion: {} (Weight {})<br>Socio-Demographic Criterion: {} (Weight {})<br>Environmental Criterion: {} (Weight {})</sub>'.format(pd1, cols[2], pw1, cols[3], pw2, cols[4], pw3))\n",
        "  fig2 = px.scatter_mapbox(assets_df, lat='lat', lon='lon', color='category', hover_name='name', hover_data={'category':True, 'sra':False, 'lat':False, 'lon':False})\n",
        "  for i in range(len(asset_cats)):\n",
        "    fig.add_trace(fig2.data[i-1])\n",
        "  fig.update_layout(margin=dict(t=150, b=10, r=20, l=20),legend_orientation=\"h\")\n",
        "\n",
        "  return fig"
      ],
      "metadata": {
        "id": "teX7uFfI9--6"
      },
      "execution_count": 16,
      "outputs": []
    },
    {
      "cell_type": "markdown",
      "source": [
        "#### Keep Server Active for Web App"
      ],
      "metadata": {
        "id": "NuEnJvIKrNdd"
      }
    },
    {
      "cell_type": "code",
      "execution_count": null,
      "metadata": {
        "id": "1yGYjsscmjEs"
      },
      "outputs": [],
      "source": [
        "anvil.server.wait_forever()"
      ]
    }
  ],
  "metadata": {
    "colab": {
      "provenance": [],
      "collapsed_sections": [
        "qOn5c4Giqkqd",
        "FFpV3YfJq3nC",
        "PzsRyuAiqten",
        "poFrv7LrrF8A"
      ]
    },
    "kernelspec": {
      "display_name": "Python 3",
      "name": "python3"
    },
    "language_info": {
      "name": "python"
    }
  },
  "nbformat": 4,
  "nbformat_minor": 0
}